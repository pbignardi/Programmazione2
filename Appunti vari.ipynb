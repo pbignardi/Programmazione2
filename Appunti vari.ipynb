{
 "cells": [
  {
   "cell_type": "markdown",
   "metadata": {},
   "source": [
    "# Precisione dei numeri `floats`\n",
    "A seguito di un paio di domande fatte a lezione, vediamo la precisione dei numeri \"*reali*\" in Python. \n",
    "\n",
    "I `float` in python corrispondono ai `double` in C e quindi sono numeri in doppio precisione, e occupano in memoria 64 bits. Questo comporta un errore di precisione che deve essere considerato in quei ambiti in cui è richiesta un'alta precisione numerica. Per esempio, si dovrebbe ricordare che:"
   ]
  },
  {
   "cell_type": "code",
   "execution_count": 1,
   "metadata": {
    "collapsed": false
   },
   "outputs": [
    {
     "data": {
      "text/plain": [
       "5.551115123125783e-17"
      ]
     },
     "execution_count": 1,
     "metadata": {},
     "output_type": "execute_result"
    }
   ],
   "source": [
    "0.1+0.1+0.1-0.3"
   ]
  },
  {
   "cell_type": "markdown",
   "metadata": {},
   "source": [
    "ovvero la differenza non è nulla. Questo va considerato soprattutto quando si effetuano dei confronti tra due numeri `float`:"
   ]
  },
  {
   "cell_type": "code",
   "execution_count": 2,
   "metadata": {
    "collapsed": false
   },
   "outputs": [
    {
     "data": {
      "text/plain": [
       "False"
      ]
     },
     "execution_count": 2,
     "metadata": {},
     "output_type": "execute_result"
    }
   ],
   "source": [
    "0.1 + 0.1 + 0.1 == 0.3"
   ]
  },
  {
   "cell_type": "markdown",
   "metadata": {},
   "source": [
    "Se viene richiesta una precionse più alta si possono utilizzare due librerie diverse:\n",
    "\n",
    "* [**decimal** — Decimal fixed point and floating point arithmetic](https://docs.python.org/3/library/decimal.html)\n",
    "* [**fractions** — Rational numbers](https://docs.python.org/3/library/fractions.html)\n",
    "\n",
    "Vediamo un esempio per la seconda libreria."
   ]
  },
  {
   "cell_type": "code",
   "execution_count": 3,
   "metadata": {
    "collapsed": false
   },
   "outputs": [
    {
     "data": {
      "text/plain": [
       "True"
      ]
     },
     "execution_count": 3,
     "metadata": {},
     "output_type": "execute_result"
    }
   ],
   "source": [
    "from fractions import Fraction\n",
    "a = Fraction(1,10)\n",
    "b = Fraction(1,10)\n",
    "c = Fraction(1,10)\n",
    "d = Fraction(3,10)\n",
    "a + b + c - d == 0"
   ]
  },
  {
   "cell_type": "markdown",
   "metadata": {},
   "source": [
    "# Divisione tra numeri interi\n",
    "In python esistono due operatori per effettuare la divisione tra due numeri $a$ e $b$:\n",
    "\n",
    "1. `\\` effettua la divisione come una \"normale\" calcolatrice (a meno della precisione numerica)\n",
    "2. `\\\\` viene chiamato il [floor division operator](https://docs.python.org/release/2.2.3/whatsnew/node7.html) ed effettua la divisione \"intera\", ovvero $\\lfloor \\frac{a}{b} \\rfloor$"
   ]
  },
  {
   "cell_type": "code",
   "execution_count": 4,
   "metadata": {
    "collapsed": false
   },
   "outputs": [
    {
     "name": "stdout",
     "output_type": "stream",
     "text": [
      "0.9958677685950414\n",
      "0.0\n",
      "1.0\n"
     ]
    }
   ],
   "source": [ 
    "a = 2.41\n",
    "b = 2.42\n",
    "print(a/b)\n",
    "print(a//b)\n",
    "print(b//a)"
   ]
  },
  {
   "cell_type": "markdown",
   "metadata": {},
   "source": [
    "# Sympy: Matematica simbolica\n",
    "Sympy è una libreria Python per effettuare dei calcoli matematici simbolici. Per un approfondimento su come è stata sviluppata questa libreria si consiglia di leggere l'articolo [SymPy: symbolic computing in Python](https://peerj.com/articles/cs-103/) o direttamente la [documentazione della libreria](http://www.sympy.org/en/index.html).\n",
    "\n",
    "Seguono un paio di esempi per rendere l'idea di cosa si può calcolare con Sympy."
   ]
  },
  {
   "cell_type": "code",
   "execution_count": 5,
   "metadata": {
    "collapsed": true
   },
   "outputs": [],
   "source": [
    "from sympy import *\n",
    "x,y = symbols('x y')\n",
    "init_printing(use_unicode=True)"
   ]
  },
  {
   "cell_type": "code",
   "execution_count": 6,
   "metadata": {
    "collapsed": false
   },
   "outputs": [
    {
     "data": {
      "image/png": "[encoded data removed]",
      "text/latex": [
       "$$- 2 x e^{- x^{2}} \\sin{\\left (x \\right )} + e^{- x^{2}} \\cos{\\left (x \\right )}$$"
      ],
      "text/plain": [
       "         2             2       \n",
       "       -x            -x        \n",
       "- 2⋅x⋅ℯ   ⋅sin(x) + ℯ   ⋅cos(x)"
      ]
     },
     "execution_count": 6,
     "metadata": {},
     "output_type": "execute_result"
    }
   ],
   "source": [
    "diff(sin(x)*exp(-x**2), x)"
   ]
  },
  {
   "cell_type": "code",
   "execution_count": 7,
   "metadata": {
    "collapsed": false
   },
   "outputs": [
    {
     "data": {
      "image/png": "[encoded data removed]",
      "text/latex": [
       "$$\\sin{\\left (3 \\right )}$$"
      ],
      "text/plain": [
       "sin(3)"
      ]
     },
     "execution_count": 7,
     "metadata": {},
     "output_type": "execute_result"
    }
   ],
   "source": [
    "integrate(cos(x), (x,0,3))"
   ]
  }
 ],
 "metadata": {
  "kernelspec": {
   "display_name": "Python 3",
   "language": "python",
   "name": "python3"
  },
  "language_info": {
   "codemirror_mode": {
    "name": "ipython",
    "version": 3
   },
   "file_extension": ".py",
   "mimetype": "text/x-python",
   "name": "python",
   "nbconvert_exporter": "python",
   "pygments_lexer": "ipython3",
   "version": "3.6.0"
  }
 },
 "nbformat": 4,
 "nbformat_minor": 2
}
