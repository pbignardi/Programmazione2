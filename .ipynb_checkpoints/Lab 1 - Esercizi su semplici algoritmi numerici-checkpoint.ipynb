{
 "cells": [
  {
   "cell_type": "markdown",
   "metadata": {},
   "source": [
    "# Laboratorio 1: Semplici algoritmi numerici\n",
    "In questo laboratorio vi viene richiesto di scrivere alcuni semplici algoritmi numerici, in modo da dimostrare di avere imparato i comandi principali di Python. Gli esercizi sono basati sul capitolo 3 del testo di riferimento.\n",
    "\n",
    "### Esercizio 1: Radice cubica di un numero intero ed Enumerazione Esaustiva\n",
    "Il primo esercizio vi chiede di scrivere una funzione chiamata `RadiceCubica` che prende in input un numero intero e restituisce una coppia di valori `(messagge,result)`, in cui:\n",
    "\n",
    "* `message` è una stringa che descrive il risultato dell'operazione, e può assumere i due valori `ok` oppure `failed`.\n",
    "* `result` è pari ad una stringa vuota se `message` è `failed`, oppure è il risultato della radice cubica se `message` è pari a `ok`.\n",
    "\n",
    "Si completi quindi la seguente funzioni e si controlla il suo corretto funzionamento con i seguenti input:\n",
    "\n",
    "* 27\n",
    "* -8\n",
    "* 57893\n",
    "* 1957816251\n",
    "* 7406961012236344616\n",
    "* 35.7\n",
    "* 'ciao'\n",
    "\n",
    "Per svolgere questo esercizio potrebbe essere utile usare la funzione `abs(x)`. Per sapere come usare questa funzione avvalersi dell'help di Python con il comando `help(abs)`."
   ]
  },
  {
   "cell_type": "code",
   "execution_count": 1,
   "metadata": {
    "collapsed": false
   },
   "outputs": [
    {
     "name": "stdout",
     "output_type": "stream",
     "text": [
      "Test  1  ok, result:  3\n",
      "Test  2  ok, result:  -2\n",
      "Test  3  failed!\n",
      "Test  4  ok, result:  1251\n",
      "Test  5  ok, result:  1949306\n",
      "Test  6  failed!\n",
      "Test  7  failed!\n"
     ]
    }
   ],
   "source": [
    "# COMPLETARE LA FUNZIONE SEGUENTE\n",
    "import numpy\n",
    "def RadiceCubica(x):\n",
    "    if type(x)!=int:\n",
    "        return \"failed\",\"\"\n",
    "    \n",
    "    sgn = numpy.sign(x)\n",
    "    x = int(abs(x))\n",
    "    for i in range(0,x):\n",
    "        if i**3 == x:\n",
    "            return \"ok\",i*sgn\n",
    "        if i**3 > x:\n",
    "            break\n",
    "            \n",
    "    \n",
    "    # Se non si trova la radice cubica:\n",
    "    return \"failed\", \"\"\n",
    "    \n",
    "# Funzione di test per la funzione che dovete implementare\n",
    "def UnitTest():\n",
    "    Xs = [27, -8, 57893, 1957816251, 7406961012236344616, 35.7, 'ciao']\n",
    "    for i,x in enumerate(Xs):\n",
    "        msg, y = RadiceCubica(x)\n",
    "        if msg == 'ok':\n",
    "            print(\"Test \",i+1,' ok, result: ', y)\n",
    "        else:\n",
    "            print(\"Test \",i+1,' failed!')\n",
    "            \n",
    "# Esegui il test\n",
    "UnitTest()"
   ]
  },
  {
   "cell_type": "markdown",
   "metadata": {},
   "source": [
    "### Esercizio 2: Radice quadrata di un numero reale non negativo\n",
    "Il secondo esercizio vi chiede di scrivere una funzione chiamata `ApxRadiceQuadrata(x)` che calcoli la radice quadrata di un qualsiasi numero reale non negativo `x`. La radice quadratata del numero dato in input non deve essere esatta, ma deve essere approssimata con un fattore `espilon` che viene passata in input alla funzione.\n",
    "In pratica si chiede di implementare la funzione:\n",
    "\n",
    "$$f : \\mathbb{R} \\rightarrow \\mathbb{R} \\quad \\quad y = f(x)$$\n",
    "\n",
    "tale che:\n",
    "\n",
    "$$\\mid y-\\sqrt{x} \\mid \\leq \\epsilon$$\n",
    "\n",
    "Si assuma come valore di default il numero $\\epsilon = 10^{-2}$. Si test il programma con i numeri 25, 0.25, 123456, e 123456789."
   ]
  },
  {
   "cell_type": "code",
   "execution_count": 19,
   "metadata": {
    "collapsed": false
   },
   "outputs": [
    {
     "name": "stdout",
     "output_type": "stream",
     "text": [
      "Test  1  ok, result:  4.999999999999938  | iterations: 501\n",
      "Test  2  ok, result:  0.49000000000000027  | iterations: 50\n",
      "Test  3  failed! | iterations: 0\n"
     ]
    }
   ],
   "source": [
    "# COMPLETARE LA FUNZIONE SEGUENTE\n",
    "def ApxRadiceQuadrata(x, epsilon=1e-02):\n",
    "    if type(x) != int and type(x) != float:\n",
    "        return \"failed\",\"\",0\n",
    "    i = 0\n",
    "    cicli = 0\n",
    "    while True:\n",
    "        cicli += 1\n",
    "        if abs(i**2-x)<= epsilon:\n",
    "            return \"ok\",i,cicli\n",
    "        else:\n",
    "            i+=epsilon\n",
    "            if i*i-x > 0:\n",
    "                break\n",
    "        \n",
    "                \n",
    "    return \"failed\", \"\", 0\n",
    "    \n",
    "# Funzione di test per la funzione che dovete implementare\n",
    "def UnitTest():\n",
    "    Xs = [25, 0.25, 123456]\n",
    "    for i,x in enumerate(Xs):\n",
    "        msg, y, iter = ApxRadiceQuadrata(x)\n",
    "        if msg == 'ok':\n",
    "            print(\"Test \",i+1,' ok, result: ', y, ' | iterations:', iter)\n",
    "        else:\n",
    "            print(\"Test \",i+1,' failed! | iterations:', iter)\n",
    "                  \n",
    "# Potete scegliere tra\n",
    "UnitTest()\n",
    "# Oppure, chiamare la funzione con un parametro alla volta\n",
    "#print(ApxRadiceQuadrata(0.25))"
   ]
  },
  {
   "cell_type": "markdown",
   "metadata": {},
   "source": [
    "### Esercizio 3: Bisection Search\n",
    "Si implementi ora una funzione che calcoli, come nell'esercizio precedente, un valore approsimato della radice quadrata di un numero dato, ma che trovi tale valore con un numero ridotto di iterazioni.\n",
    "\n",
    "**Suggerimento**: *L'algoritmo dovrebbe usare lo stesso metodo che usiamo per cercare un vocabolo in un dizionario: ad ogni iterazione dovremmo dividere lo spazio di ricerca in due metà e decidere in quale delle due continuare a cercare. Lo spazio di ricerca iniziale dovrebbe essere $[0..x]$ se $x>1$, oppure $[0..1]$ se $x \\leq1 $.*"
   ]
  },
  {
   "cell_type": "code",
   "execution_count": 32,
   "metadata": {
    "collapsed": false
   },
   "outputs": [
    {
     "name": "stdout",
     "output_type": "stream",
     "text": [
      "----------- Start Test  1  -------------\n",
      "TEST  1  ok, result:  4.9990234375  | iterations: 13\n",
      "----------- Test  1  Completed -------------\n",
      "----------- Start Test  2  -------------\n",
      "TEST  2  ok, result:  0.5  | iterations: 1\n",
      "----------- Test  2  Completed -------------\n",
      "----------- Start Test  3  -------------\n",
      "TEST  3  ok, result:  351.3630713559687  | iterations: 28\n",
      "----------- Test  3  Completed -------------\n",
      "----------- Start Test  4  -------------\n",
      "TEST  4  ok, result:  11111.111060964455  | iterations: 47\n",
      "----------- Test  4  Completed -------------\n"
     ]
    }
   ],
   "source": [
    "# COMPLETARE LA FUNZIONE SEGUENTE\n",
    "def BS_ApxRadiceQuadrata(x, epsilon=1e-02):\n",
    "    if type(x) != float and type(x) != int:\n",
    "        return \"failed\",\"\",0\n",
    "    \n",
    "    cicli = 0\n",
    "    \n",
    "    if x>1:\n",
    "        a = 1\n",
    "        b = x\n",
    "    if x<=1 and x>=0:\n",
    "        a = 0\n",
    "        b = 1\n",
    "    if x < 0:\n",
    "        return \"failed\",\"\",0\n",
    "    while True:\n",
    "        cicli+=1\n",
    "        c = (a+b)/2\n",
    "        if abs(c**2-x)<=epsilon:\n",
    "            return \"ok\",c,cicli\n",
    "        else:\n",
    "            if c**2-x<0:\n",
    "                a = c\n",
    "            if c**2-x>0:\n",
    "                b = c\n",
    "        \n",
    "    return \"failed\", \"\", 0\n",
    "    \n",
    "# Funzione di test per la funzione che dovete implementare\n",
    "def UnitTest():\n",
    "    Xs = [25, 0.25, 123456, 123456789]\n",
    "    for i,x in enumerate(Xs):\n",
    "        print('----------- Start Test ', i+1, ' -------------')\n",
    "        msg, y, iter = BS_ApxRadiceQuadrata(x)\n",
    "        if msg == 'ok':\n",
    "            print('TEST ',i+1,' ok, result: ', y, ' | iterations:', iter)\n",
    "        else:\n",
    "            print('TEST ',i+1,' failed! | iterations:', iter)\n",
    "        print('----------- Test ', i+1, ' Completed -------------')\n",
    "                  \n",
    "# Potete scegliere tra\n",
    "UnitTest()"
   ]
  },
  {
   "cell_type": "markdown",
   "metadata": {},
   "source": [
    "## Il Metodo di Newton Raphson\n",
    "Un degli esempi più noti di algoritmi approssimati viene attribuito a Isaac Newton e Joseph Raphson, che avrebbero scoperto lo stesso metodo allo stesso tempo, ma senza aver lavorato insieme.\n",
    "\n",
    "Il metodo può essere usato per trovare le radici di molte funzioni, ma in questo esercizio ci limitiamo alle radici di polinomi con una sola variabile.\n",
    "\n",
    "Un **polinomio** è o 0 oppure una somma finita di termini non nulli. Ogni termine non nullo è composto di una costante, il suo **coefficiente**, che viene moltiplicato per una variabile che viene elevata ad un esponente intero non negativo; il valore dell'esponente è chiamato il **grado** del termine. Il **grado di un polinomio** è pari al massimo dei gradi dei suoi termini.\n",
    "Per esempio, il polinomio:\n",
    "$$3x^2 + 2x +3$$\n",
    "ha grado pari a due.\n",
    "\n",
    "Sia ora $p(x)$ un polinomio e $\\bar{x}$ un numero reale: indichiamo con $p(\\bar{x})$ il valore che il polinomio assume in $\\bar{x}$. La **radice** di un polinomio è una soluzione dell'equazione $p(x) = 0$, ovvero la radice è un numero reale $\\bar{x}$ tale per cui $p(\\bar{x}) = 0$. Per esempio, il problema di trovare un'approssimazione della radice quadrata di 24 può essere scritto come il problema di trovare le radici del polinomio $x^2 - 24 \\approx 0$.\n",
    "\n",
    "Newton ha dimostrato un teorema che implica che se un numero $\\bar{x}$ è una approssimazione di una radice di un polinomio, allora $\\bar{x} - \\frac{p(\\bar{x})}{p'(\\bar{x})}$, in cui $p'(x)$ è la derivata prima di $p(x)$, è una approsimazione migliore di tale radice. In pratica, il metodo di Newton Raphson continua ad iterare tra **approssimazioni successive** sino a quando non trova una radice del polinimio che ha la precisione desiderata."
   ]
  },
  {
   "cell_type": "code",
   "execution_count": 37,
   "metadata": {
    "collapsed": false,
    "scrolled": true
   },
   "outputs": [
    {
     "name": "stdout",
     "output_type": "stream",
     "text": [
      "123456789.00908665\n",
      "123456.0069598249\n"
     ]
    }
   ],
   "source": []
  },
  {
   "cell_type": "markdown",
   "metadata": {},
   "source": [
    "### Esercizio 4: Implementare Newton Raphson\n",
    "In questo esercizio vi viene chiesto di implementare una funzione che prende in **input**:\n",
    "\n",
    "1. Una funzione che calcola il valore di un dato polinomio $p(x)$. Per esempio, una funzione che calcola: $p(x) = cx^2 + 123456789$ con $c=1$ e $k=-123456789$.\n",
    "2. Una seconda funzione che calcola il valore della derivata prima del polinomio $p(x)$, che chiamiamo per semplicità $q(x)$. Dall'esempio precedente, avremmo $q(x) = 2cx$.\n",
    "3. La tolleranza desiderata $\\epsilon$, con valore di default $\\epsilon = 10^{-2}$.\n",
    "\n",
    "Vi viene chiesto di implementare la funzione chiamata `NewtonRaphson(p, q, espilon)` che calcola le approssimazioni successive della radice del polinomio, sino ad ottenere una radice delle precisione richiesta. L'output della funzione sarà come quello richiesto nell'esercizio 3."
   ]
  },
  {
   "cell_type": "code",
   "execution_count": null,
   "metadata": {
    "collapsed": true
   },
   "outputs": [],
   "source": [
    "# Polinomio di cui trovare la radice\n",
    "#def p(x):\n",
    "    \n",
    "\n",
    "# Derivata prima del polinomio dato\n",
    "#def q(x):\n",
    "    # DA COMPLETARE\n",
    " "
   ]
  },
  {
   "cell_type": "code",
   "execution_count": 38,
   "metadata": {
    "collapsed": true
   },
   "outputs": [],
   "source": [
    "def NewtonRaphson(p, q, epsilon=1e-02):\n",
    "    if type(x) !=int and type(x) != float:\n",
    "        return \"failed\",\"\",0\n",
    "    \n",
    "    cicli = 0\n",
    "    while True:\n",
    "        cicli+=1\n",
    "        if abs(p(x))<=epsilon:\n",
    "            return \"ok\",x,cicli\n",
    "        else:\n",
    "            x = x - p(x)/q(x)\n",
    "        \n",
    " \n",
    "    return 'failed', '', 0"
   ]
  },
  {
   "cell_type": "code",
   "execution_count": null,
   "metadata": {
    "collapsed": false
   },
   "outputs": [],
   "source": [
    "# Test della funzione implementata\n",
    "NewtonRaphson(p,q)"
   ]
  },
  {
   "cell_type": "code",
   "execution_count": null,
   "metadata": {
    "collapsed": true
   },
   "outputs": [],
   "source": []
  }
 ],
 "metadata": {
  "kernelspec": {
   "display_name": "Python 3",
   "language": "python",
   "name": "python3"
  },
  "language_info": {
   "codemirror_mode": {
    "name": "ipython",
    "version": 3
   },
   "file_extension": ".py",
   "mimetype": "text/x-python",
   "name": "python",
   "nbconvert_exporter": "python",
   "pygments_lexer": "ipython3",
   "version": "3.6.0"
  }
 },
 "nbformat": 4,
 "nbformat_minor": 2
}
